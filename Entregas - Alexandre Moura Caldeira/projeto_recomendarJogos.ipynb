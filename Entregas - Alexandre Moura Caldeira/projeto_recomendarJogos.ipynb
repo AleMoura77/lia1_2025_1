{
 "cells": [
  {
   "cell_type": "code",
   "execution_count": null,
   "id": "c271cc42",
   "metadata": {},
   "outputs": [],
   "source": [
    "from dotenv import load_dotenv\n",
    "import os\n",
    "import google.generativeai as genai"
   ]
  },
  {
   "cell_type": "code",
   "execution_count": null,
   "id": "5e018d86",
   "metadata": {},
   "outputs": [],
   "source": [
    "# Carregar variável de ambiente\n",
    "load_dotenv()\n",
    "genai.configure(api_key=os.getenv(\"GOOGLE_API_KEY\"))"
   ]
  },
  {
   "cell_type": "code",
   "execution_count": null,
   "id": "3110b53f",
   "metadata": {},
   "outputs": [],
   "source": [
    "# Função para criar agentes simulando comportamentos\n",
    "def gerar_resposta_gemini(prompt):\n",
    "    model = genai.GenerativeModel(\"models/gemini-1.5-flash\")\n",
    "    response = model.generate_content(prompt)\n",
    "    return response.text.strip()"
   ]
  },
  {
   "cell_type": "code",
   "execution_count": null,
   "id": "d7f3534f",
   "metadata": {},
   "outputs": [],
   "source": [
    "# Agente: Valor-Jogos\n",
    "def valor_jogos(plataforma, genero):\n",
    "    prompt = f\"\"\"\n",
    "    Você é um especialista em verificar preços de jogos. \n",
    "    Faça uma seleção de jogos em promoção da plataforma {plataforma}, com o genero {genero}.\n",
    "    Faça adicione tambem jogos com uma boa avaliação da crítica que estão em promoção.\n",
    "    \"\"\"\n",
    "    return gerar_resposta_gemini(prompt)"
   ]
  },
  {
   "cell_type": "code",
   "execution_count": null,
   "id": "218a62ef",
   "metadata": {},
   "outputs": [],
   "source": [
    "# Agente: resumos_jogo\n",
    "def resumos_jogo(orcamento):\n",
    "    prompt = f\"\"\"\n",
    "    Com base neste orçamento de jogos abaixo, faça um pequeno resumo dos principais jogos da lista.\n",
    "    ROTEIRO:\n",
    "    {orcamento}\n",
    "    \"\"\"\n",
    "    return gerar_resposta_gemini(prompt)"
   ]
  },
  {
   "cell_type": "code",
   "execution_count": null,
   "id": "68d4ec87",
   "metadata": {},
   "outputs": [],
   "source": [
    "# Agente: recomendar_jogo\n",
    "def recomendar_jogo(orcamento, resumo):\n",
    "    prompt = f\"\"\"\n",
    "    Com base neste orçamento e nos resumos de jogos abaixo, crie uma lista de qual jogo é melhor para se comprar neste periodo. \n",
    "    Orçamento:\n",
    "    {orcamento}\n",
    "    Resumos:\n",
    "    {resumo}\n",
    "    \"\"\"\n",
    "    return gerar_resposta_gemini(prompt)"
   ]
  },
  {
   "cell_type": "code",
   "execution_count": null,
   "id": "b9cbd0cb",
   "metadata": {},
   "outputs": [],
   "source": [
    "# Execução\n",
    "plataforma = \"Computador\"\n",
    "genero = \"Terror\"\n",
    "orcamento = valor_jogos(plataforma, genero)\n",
    "resumo = resumos_jogo(orcamento)\n",
    "recomendacao = recomendar_jogo(orcamento, resumo)"
   ]
  },
  {
   "cell_type": "code",
   "execution_count": null,
   "id": "815b803c",
   "metadata": {},
   "outputs": [],
   "source": [
    "# Resultados\n",
    "print(\"Recomendação de jogos: \\n\")\n",
    "print(recomendacao)\n"
   ]
  }
 ],
 "metadata": {
  "language_info": {
   "name": "python"
  }
 },
 "nbformat": 4,
 "nbformat_minor": 5
}
